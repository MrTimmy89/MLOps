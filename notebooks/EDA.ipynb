{
 "cells": [
  {
   "cell_type": "code",
   "execution_count": 1,
   "id": "50c565a6",
   "metadata": {},
   "outputs": [],
   "source": [
    "import pandas as pd\n",
    "import seaborn\n",
    "import numpy as np"
   ]
  },
  {
   "cell_type": "code",
   "execution_count": 4,
   "id": "adff8a80",
   "metadata": {},
   "outputs": [],
   "source": [
    "INPUT_FP = \"../data/raw/\""
   ]
  },
  {
   "cell_type": "markdown",
   "id": "d19af3af",
   "metadata": {},
   "source": [
    "# Get the data"
   ]
  },
  {
   "cell_type": "markdown",
   "id": "acbafa27",
   "metadata": {},
   "source": [
    "## Train dataset, containing patients' idx, the date and KT results.\n",
    "We will get the data, estimate the number of entries, view some samples, check the data for NaNs and plot the results' distribution"
   ]
  },
  {
   "cell_type": "code",
   "execution_count": 5,
   "id": "2b1acb82",
   "metadata": {},
   "outputs": [
    {
     "data": {
      "text/html": [
       "<div>\n",
       "<style scoped>\n",
       "    .dataframe tbody tr th:only-of-type {\n",
       "        vertical-align: middle;\n",
       "    }\n",
       "\n",
       "    .dataframe tbody tr th {\n",
       "        vertical-align: top;\n",
       "    }\n",
       "\n",
       "    .dataframe thead th {\n",
       "        text-align: right;\n",
       "    }\n",
       "</style>\n",
       "<table border=\"1\" class=\"dataframe\">\n",
       "  <thead>\n",
       "    <tr style=\"text-align: right;\">\n",
       "      <th></th>\n",
       "      <th>idx</th>\n",
       "      <th>DATE</th>\n",
       "      <th>KT_RESULT</th>\n",
       "    </tr>\n",
       "  </thead>\n",
       "  <tbody>\n",
       "    <tr>\n",
       "      <th>84128</th>\n",
       "      <td>27089</td>\n",
       "      <td>2020-05-14</td>\n",
       "      <td>КТ-1</td>\n",
       "    </tr>\n",
       "    <tr>\n",
       "      <th>54173</th>\n",
       "      <td>688610</td>\n",
       "      <td>2020-04-29</td>\n",
       "      <td>КТ-2</td>\n",
       "    </tr>\n",
       "    <tr>\n",
       "      <th>74765</th>\n",
       "      <td>575584</td>\n",
       "      <td>2020-05-09</td>\n",
       "      <td>КТ-3</td>\n",
       "    </tr>\n",
       "    <tr>\n",
       "      <th>51193</th>\n",
       "      <td>670164</td>\n",
       "      <td>2020-04-27</td>\n",
       "      <td>КТ-0</td>\n",
       "    </tr>\n",
       "    <tr>\n",
       "      <th>86748</th>\n",
       "      <td>130869</td>\n",
       "      <td>2020-05-15</td>\n",
       "      <td>КТ-0</td>\n",
       "    </tr>\n",
       "  </tbody>\n",
       "</table>\n",
       "</div>"
      ],
      "text/plain": [
       "          idx        DATE KT_RESULT\n",
       "84128   27089  2020-05-14      КТ-1\n",
       "54173  688610  2020-04-29      КТ-2\n",
       "74765  575584  2020-05-09      КТ-3\n",
       "51193  670164  2020-04-27      КТ-0\n",
       "86748  130869  2020-05-15      КТ-0"
      ]
     },
     "execution_count": 5,
     "metadata": {},
     "output_type": "execute_result"
    }
   ],
   "source": [
    "train = pd.read_csv(INPUT_FP + \"data_for_science_KT_train.csv\", date_parser=\"DATE\")\n",
    "train.sample(5)"
   ]
  },
  {
   "cell_type": "code",
   "execution_count": 6,
   "id": "63fabb19",
   "metadata": {},
   "outputs": [
    {
     "name": "stdout",
     "output_type": "stream",
     "text": [
      "<class 'pandas.core.frame.DataFrame'>\n",
      "RangeIndex: 132289 entries, 0 to 132288\n",
      "Data columns (total 3 columns):\n",
      " #   Column     Non-Null Count   Dtype \n",
      "---  ------     --------------   ----- \n",
      " 0   idx        132289 non-null  int64 \n",
      " 1   DATE       132289 non-null  object\n",
      " 2   KT_RESULT  132289 non-null  object\n",
      "dtypes: int64(1), object(2)\n",
      "memory usage: 3.0+ MB\n"
     ]
    }
   ],
   "source": [
    "train.info()"
   ]
  },
  {
   "cell_type": "code",
   "execution_count": 68,
   "id": "7dcb9f72",
   "metadata": {},
   "outputs": [
    {
     "data": {
      "text/plain": [
       "((132289, 3), True)"
      ]
     },
     "execution_count": 68,
     "metadata": {},
     "output_type": "execute_result"
    }
   ],
   "source": [
    "# We check the shape of our data and check at the same time if there are duplicate entries there\n",
    "train.shape, train.shape == train.drop_duplicates().shape"
   ]
  },
  {
   "cell_type": "code",
   "execution_count": 69,
   "id": "04332083",
   "metadata": {},
   "outputs": [
    {
     "data": {
      "text/html": [
       "<div>\n",
       "<style scoped>\n",
       "    .dataframe tbody tr th:only-of-type {\n",
       "        vertical-align: middle;\n",
       "    }\n",
       "\n",
       "    .dataframe tbody tr th {\n",
       "        vertical-align: top;\n",
       "    }\n",
       "\n",
       "    .dataframe thead th {\n",
       "        text-align: right;\n",
       "    }\n",
       "</style>\n",
       "<table border=\"1\" class=\"dataframe\">\n",
       "  <thead>\n",
       "    <tr style=\"text-align: right;\">\n",
       "      <th></th>\n",
       "      <th>0</th>\n",
       "    </tr>\n",
       "  </thead>\n",
       "  <tbody>\n",
       "    <tr>\n",
       "      <th>idx</th>\n",
       "      <td>0</td>\n",
       "    </tr>\n",
       "    <tr>\n",
       "      <th>DATE</th>\n",
       "      <td>0</td>\n",
       "    </tr>\n",
       "    <tr>\n",
       "      <th>KT_RESULT</th>\n",
       "      <td>0</td>\n",
       "    </tr>\n",
       "  </tbody>\n",
       "</table>\n",
       "</div>"
      ],
      "text/plain": [
       "           0\n",
       "idx        0\n",
       "DATE       0\n",
       "KT_RESULT  0"
      ]
     },
     "execution_count": 69,
     "metadata": {},
     "output_type": "execute_result"
    }
   ],
   "source": [
    "# We check for NaNs\n",
    "pd.DataFrame(np.sum(train.isna()))"
   ]
  },
  {
   "cell_type": "code",
   "execution_count": 70,
   "id": "8d6ffdee",
   "metadata": {},
   "outputs": [
    {
     "data": {
      "text/plain": [
       "18202"
      ]
     },
     "execution_count": 70,
     "metadata": {},
     "output_type": "execute_result"
    }
   ],
   "source": [
    "# We check for same idx\n",
    "np.sum(np.where(train[[\"idx\"]].value_counts() > 1, 1, 0))"
   ]
  },
  {
   "cell_type": "code",
   "execution_count": 71,
   "id": "204e94d1",
   "metadata": {},
   "outputs": [
    {
     "data": {
      "text/plain": [
       "<AxesSubplot:>"
      ]
     },
     "execution_count": 71,
     "metadata": {},
     "output_type": "execute_result"
    },
    {
     "data": {
      "image/png": "[encoded data removed]",
      "text/plain": [
       "<Figure size 432x288 with 1 Axes>"
      ]
     },
     "metadata": {
      "needs_background": "light"
     },
     "output_type": "display_data"
    }
   ],
   "source": [
    "# We plot the results' distribution\n",
    "seaborn.barplot(x=train[\"KT_RESULT\"].unique(), y=train[[\"KT_RESULT\"]].value_counts())"
   ]
  },
  {
   "cell_type": "markdown",
   "id": "eeaa4630",
   "metadata": {},
   "source": [
    "We can see, that the dataset contains no duplicates, no NaN values. Some patients are more than once to see on the list, getting thier results on different dates. There is also a certain disbalance in the resulting column."
   ]
  },
  {
   "cell_type": "markdown",
   "id": "d5e15123",
   "metadata": {},
   "source": [
    "## Test dataset, containing patients' idx and the date. We need to predict KT results.\n",
    "The same way, as above, we download, estimate size, check for NaNs."
   ]
  },
  {
   "cell_type": "code",
   "execution_count": 72,
   "id": "7349ccd0",
   "metadata": {},
   "outputs": [
    {
     "data": {
      "text/html": [
       "<div>\n",
       "<style scoped>\n",
       "    .dataframe tbody tr th:only-of-type {\n",
       "        vertical-align: middle;\n",
       "    }\n",
       "\n",
       "    .dataframe tbody tr th {\n",
       "        vertical-align: top;\n",
       "    }\n",
       "\n",
       "    .dataframe thead th {\n",
       "        text-align: right;\n",
       "    }\n",
       "</style>\n",
       "<table border=\"1\" class=\"dataframe\">\n",
       "  <thead>\n",
       "    <tr style=\"text-align: right;\">\n",
       "      <th></th>\n",
       "      <th>idx</th>\n",
       "      <th>DATE</th>\n",
       "      <th>KT_RESULT</th>\n",
       "    </tr>\n",
       "  </thead>\n",
       "  <tbody>\n",
       "    <tr>\n",
       "      <th>26157</th>\n",
       "      <td>177825</td>\n",
       "      <td>2020-05-27</td>\n",
       "      <td>NaN</td>\n",
       "    </tr>\n",
       "    <tr>\n",
       "      <th>5639</th>\n",
       "      <td>13762</td>\n",
       "      <td>2020-05-19</td>\n",
       "      <td>NaN</td>\n",
       "    </tr>\n",
       "    <tr>\n",
       "      <th>30843</th>\n",
       "      <td>73283</td>\n",
       "      <td>2020-06-16</td>\n",
       "      <td>NaN</td>\n",
       "    </tr>\n",
       "    <tr>\n",
       "      <th>3426</th>\n",
       "      <td>84424</td>\n",
       "      <td>2020-05-07</td>\n",
       "      <td>NaN</td>\n",
       "    </tr>\n",
       "    <tr>\n",
       "      <th>23363</th>\n",
       "      <td>34684</td>\n",
       "      <td>2020-05-19</td>\n",
       "      <td>NaN</td>\n",
       "    </tr>\n",
       "  </tbody>\n",
       "</table>\n",
       "</div>"
      ],
      "text/plain": [
       "          idx        DATE  KT_RESULT\n",
       "26157  177825  2020-05-27        NaN\n",
       "5639    13762  2020-05-19        NaN\n",
       "30843   73283  2020-06-16        NaN\n",
       "3426    84424  2020-05-07        NaN\n",
       "23363   34684  2020-05-19        NaN"
      ]
     },
     "execution_count": 72,
     "metadata": {},
     "output_type": "execute_result"
    }
   ],
   "source": [
    "test = pd.read_csv(INPUT_FP + \"data_for_science_KT_evaluate.csv\", date_parser=\"DATE\")\n",
    "test.sample(5)"
   ]
  },
  {
   "cell_type": "code",
   "execution_count": 73,
   "id": "070fa0a0",
   "metadata": {},
   "outputs": [
    {
     "name": "stdout",
     "output_type": "stream",
     "text": [
      "<class 'pandas.core.frame.DataFrame'>\n",
      "RangeIndex: 33080 entries, 0 to 33079\n",
      "Data columns (total 3 columns):\n",
      " #   Column     Non-Null Count  Dtype  \n",
      "---  ------     --------------  -----  \n",
      " 0   idx        33080 non-null  int64  \n",
      " 1   DATE       33080 non-null  object \n",
      " 2   KT_RESULT  0 non-null      float64\n",
      "dtypes: float64(1), int64(1), object(1)\n",
      "memory usage: 775.4+ KB\n"
     ]
    }
   ],
   "source": [
    "test.info()"
   ]
  },
  {
   "cell_type": "code",
   "execution_count": 74,
   "id": "a6ffeaf1",
   "metadata": {},
   "outputs": [
    {
     "data": {
      "text/plain": [
       "((33080, 3), False)"
      ]
     },
     "execution_count": 74,
     "metadata": {},
     "output_type": "execute_result"
    }
   ],
   "source": [
    "# We check the shape of our data and check at the same time if there are duplicate entries there\n",
    "test.shape, test.shape == test.drop_duplicates().shape"
   ]
  },
  {
   "cell_type": "code",
   "execution_count": 75,
   "id": "3f137e30",
   "metadata": {},
   "outputs": [
    {
     "data": {
      "text/plain": [
       "43"
      ]
     },
     "execution_count": 75,
     "metadata": {},
     "output_type": "execute_result"
    }
   ],
   "source": [
    "# We count duplicates in our data\n",
    "test.shape[0] - test.drop_duplicates().shape[0]"
   ]
  },
  {
   "cell_type": "code",
   "execution_count": 76,
   "id": "2f5ab9e9",
   "metadata": {},
   "outputs": [
    {
     "data": {
      "text/html": [
       "<div>\n",
       "<style scoped>\n",
       "    .dataframe tbody tr th:only-of-type {\n",
       "        vertical-align: middle;\n",
       "    }\n",
       "\n",
       "    .dataframe tbody tr th {\n",
       "        vertical-align: top;\n",
       "    }\n",
       "\n",
       "    .dataframe thead th {\n",
       "        text-align: right;\n",
       "    }\n",
       "</style>\n",
       "<table border=\"1\" class=\"dataframe\">\n",
       "  <thead>\n",
       "    <tr style=\"text-align: right;\">\n",
       "      <th></th>\n",
       "      <th>0</th>\n",
       "    </tr>\n",
       "  </thead>\n",
       "  <tbody>\n",
       "    <tr>\n",
       "      <th>idx</th>\n",
       "      <td>0</td>\n",
       "    </tr>\n",
       "    <tr>\n",
       "      <th>DATE</th>\n",
       "      <td>0</td>\n",
       "    </tr>\n",
       "  </tbody>\n",
       "</table>\n",
       "</div>"
      ],
      "text/plain": [
       "      0\n",
       "idx   0\n",
       "DATE  0"
      ]
     },
     "execution_count": 76,
     "metadata": {},
     "output_type": "execute_result"
    }
   ],
   "source": [
    "# We check for NaNs\n",
    "pd.DataFrame(np.sum(test.drop([\"KT_RESULT\"], axis=1).isna()))"
   ]
  },
  {
   "cell_type": "markdown",
   "id": "0114ce20",
   "metadata": {},
   "source": [
    "We can see, that some duplicating entries exist in the test dataset, but still no NaNs are given"
   ]
  },
  {
   "cell_type": "markdown",
   "id": "127ac011",
   "metadata": {},
   "source": [
    "## Some datasets, giving us additional info"
   ]
  },
  {
   "cell_type": "markdown",
   "id": "aa74f08f",
   "metadata": {},
   "source": [
    "### Deaths, occuring to some patients"
   ]
  },
  {
   "cell_type": "code",
   "execution_count": 77,
   "id": "7c2bdaa6",
   "metadata": {},
   "outputs": [
    {
     "data": {
      "text/html": [
       "<div>\n",
       "<style scoped>\n",
       "    .dataframe tbody tr th:only-of-type {\n",
       "        vertical-align: middle;\n",
       "    }\n",
       "\n",
       "    .dataframe tbody tr th {\n",
       "        vertical-align: top;\n",
       "    }\n",
       "\n",
       "    .dataframe thead th {\n",
       "        text-align: right;\n",
       "    }\n",
       "</style>\n",
       "<table border=\"1\" class=\"dataframe\">\n",
       "  <thead>\n",
       "    <tr style=\"text-align: right;\">\n",
       "      <th></th>\n",
       "      <th>idx</th>\n",
       "      <th>DEATH_DATE</th>\n",
       "    </tr>\n",
       "  </thead>\n",
       "  <tbody>\n",
       "    <tr>\n",
       "      <th>1874</th>\n",
       "      <td>753984</td>\n",
       "      <td>2020-05-05</td>\n",
       "    </tr>\n",
       "    <tr>\n",
       "      <th>14086</th>\n",
       "      <td>87484</td>\n",
       "      <td>2020-07-13</td>\n",
       "    </tr>\n",
       "    <tr>\n",
       "      <th>10673</th>\n",
       "      <td>83483</td>\n",
       "      <td>2020-06-19</td>\n",
       "    </tr>\n",
       "    <tr>\n",
       "      <th>10467</th>\n",
       "      <td>351679</td>\n",
       "      <td>2020-06-18</td>\n",
       "    </tr>\n",
       "    <tr>\n",
       "      <th>12277</th>\n",
       "      <td>505632</td>\n",
       "      <td>2020-06-29</td>\n",
       "    </tr>\n",
       "  </tbody>\n",
       "</table>\n",
       "</div>"
      ],
      "text/plain": [
       "          idx  DEATH_DATE\n",
       "1874   753984  2020-05-05\n",
       "14086   87484  2020-07-13\n",
       "10673   83483  2020-06-19\n",
       "10467  351679  2020-06-18\n",
       "12277  505632  2020-06-29"
      ]
     },
     "execution_count": 77,
     "metadata": {},
     "output_type": "execute_result"
    }
   ],
   "source": [
    "deaths = pd.read_csv(\n",
    "    INPUT_FP + \"data_for_science_death_2020-07-27.csv\",\n",
    "    delimiter=\";\",\n",
    "    date_parser=\"DEATH_DATE\"\n",
    ")\n",
    "deaths.sample(5)"
   ]
  },
  {
   "cell_type": "code",
   "execution_count": 79,
   "id": "03311085",
   "metadata": {},
   "outputs": [
    {
     "data": {
      "text/plain": [
       "(14110, 2)"
      ]
     },
     "execution_count": 79,
     "metadata": {},
     "output_type": "execute_result"
    }
   ],
   "source": [
    "deaths.shape"
   ]
  },
  {
   "cell_type": "markdown",
   "id": "2fd2f65b",
   "metadata": {},
   "source": [
    "Let's find intersections with the original dataframes considering, that there are similar idx in the column on which we merge dataframes. To facilitate our furthter exploration and save time, the intersection between other additional datasets and train/test have been prooved to exist (so it won't be done in this notebook)."
   ]
  },
  {
   "cell_type": "code",
   "execution_count": 88,
   "id": "4a8aa7e2",
   "metadata": {},
   "outputs": [
    {
     "data": {
      "text/plain": [
       "1391"
      ]
     },
     "execution_count": 88,
     "metadata": {},
     "output_type": "execute_result"
    }
   ],
   "source": [
    "deaths.merge(train, how=\"right\", on=\"idx\")[\"DEATH_DATE\"].dropna().shape[0]"
   ]
  },
  {
   "cell_type": "code",
   "execution_count": 89,
   "id": "fbc65722",
   "metadata": {},
   "outputs": [
    {
     "data": {
      "text/plain": [
       "386"
      ]
     },
     "execution_count": 89,
     "metadata": {},
     "output_type": "execute_result"
    }
   ],
   "source": [
    "deaths.merge(test, how=\"right\", on=\"idx\")[\"DEATH_DATE\"].dropna().shape[0]"
   ]
  },
  {
   "cell_type": "markdown",
   "id": "bc286a2d",
   "metadata": {},
   "source": [
    "So we can get some additional information. This additional information does not cover the whole dataset. So we should choose strategy to cover the appearing NaNs. For further use, we will mark those, who died we will extract some features from their death date, the entries will be marked in a special column with \"1\", others and the features to be extracted would be transfromed to \"0\"."
   ]
  },
  {
   "cell_type": "markdown",
   "id": "45f6160b",
   "metadata": {},
   "source": [
    "### The questioning results"
   ]
  },
  {
   "cell_type": "code",
   "execution_count": 91,
   "id": "8c31511c",
   "metadata": {},
   "outputs": [
    {
     "data": {
      "text/html": [
       "<div>\n",
       "<style scoped>\n",
       "    .dataframe tbody tr th:only-of-type {\n",
       "        vertical-align: middle;\n",
       "    }\n",
       "\n",
       "    .dataframe tbody tr th {\n",
       "        vertical-align: top;\n",
       "    }\n",
       "\n",
       "    .dataframe thead th {\n",
       "        text-align: right;\n",
       "    }\n",
       "</style>\n",
       "<table border=\"1\" class=\"dataframe\">\n",
       "  <thead>\n",
       "    <tr style=\"text-align: right;\">\n",
       "      <th></th>\n",
       "      <th>idx</th>\n",
       "      <th>pd_id</th>\n",
       "      <th>Был ли контакт с пациентом больным Covid 19</th>\n",
       "      <th>Был ли подтверждённый случай заболевания Covid 19</th>\n",
       "      <th>Были ли симптомы ОРВИ на протяжении последних 5 месяцев</th>\n",
       "      <th>Были ли симптомы ковид в последние 5 месяцев?</th>\n",
       "      <th>Одышка</th>\n",
       "      <th>Повышение температуры</th>\n",
       "      <th>Потеря чувства обоняния</th>\n",
       "      <th>Слабость</th>\n",
       "      <th>Сухой кашель</th>\n",
       "    </tr>\n",
       "  </thead>\n",
       "  <tbody>\n",
       "    <tr>\n",
       "      <th>93302</th>\n",
       "      <td>438157</td>\n",
       "      <td>3688018</td>\n",
       "      <td>Нет</td>\n",
       "      <td>Нет</td>\n",
       "      <td>Нет</td>\n",
       "      <td>Нет</td>\n",
       "      <td>NaN</td>\n",
       "      <td>NaN</td>\n",
       "      <td>NaN</td>\n",
       "      <td>NaN</td>\n",
       "      <td>NaN</td>\n",
       "    </tr>\n",
       "    <tr>\n",
       "      <th>2118</th>\n",
       "      <td>213597</td>\n",
       "      <td>2413879</td>\n",
       "      <td>Нет</td>\n",
       "      <td>Нет</td>\n",
       "      <td>Нет</td>\n",
       "      <td>Нет</td>\n",
       "      <td>NaN</td>\n",
       "      <td>NaN</td>\n",
       "      <td>NaN</td>\n",
       "      <td>NaN</td>\n",
       "      <td>NaN</td>\n",
       "    </tr>\n",
       "    <tr>\n",
       "      <th>118810</th>\n",
       "      <td>437113</td>\n",
       "      <td>4004376</td>\n",
       "      <td>Нет</td>\n",
       "      <td>Нет</td>\n",
       "      <td>Нет</td>\n",
       "      <td>Нет</td>\n",
       "      <td>NaN</td>\n",
       "      <td>NaN</td>\n",
       "      <td>NaN</td>\n",
       "      <td>NaN</td>\n",
       "      <td>NaN</td>\n",
       "    </tr>\n",
       "    <tr>\n",
       "      <th>115351</th>\n",
       "      <td>488451</td>\n",
       "      <td>3969955</td>\n",
       "      <td>Нет</td>\n",
       "      <td>Нет</td>\n",
       "      <td>Да</td>\n",
       "      <td>Нет</td>\n",
       "      <td>NaN</td>\n",
       "      <td>NaN</td>\n",
       "      <td>NaN</td>\n",
       "      <td>NaN</td>\n",
       "      <td>NaN</td>\n",
       "    </tr>\n",
       "    <tr>\n",
       "      <th>13168</th>\n",
       "      <td>105080</td>\n",
       "      <td>2610131</td>\n",
       "      <td>Нет</td>\n",
       "      <td>Нет</td>\n",
       "      <td>Да</td>\n",
       "      <td>Нет</td>\n",
       "      <td>NaN</td>\n",
       "      <td>NaN</td>\n",
       "      <td>NaN</td>\n",
       "      <td>NaN</td>\n",
       "      <td>NaN</td>\n",
       "    </tr>\n",
       "  </tbody>\n",
       "</table>\n",
       "</div>"
      ],
      "text/plain": [
       "           idx    pd_id Был ли контакт с пациентом больным Covid 19  \\\n",
       "93302   438157  3688018                                         Нет   \n",
       "2118    213597  2413879                                         Нет   \n",
       "118810  437113  4004376                                         Нет   \n",
       "115351  488451  3969955                                         Нет   \n",
       "13168   105080  2610131                                         Нет   \n",
       "\n",
       "       Был ли подтверждённый случай заболевания Covid 19  \\\n",
       "93302                                                Нет   \n",
       "2118                                                 Нет   \n",
       "118810                                               Нет   \n",
       "115351                                               Нет   \n",
       "13168                                                Нет   \n",
       "\n",
       "       Были ли симптомы ОРВИ на протяжении последних 5 месяцев  \\\n",
       "93302                                                 Нет        \n",
       "2118                                                  Нет        \n",
       "118810                                                Нет        \n",
       "115351                                                 Да        \n",
       "13168                                                  Да        \n",
       "\n",
       "       Были ли симптомы ковид в последние 5 месяцев? Одышка  \\\n",
       "93302                                            Нет    NaN   \n",
       "2118                                             Нет    NaN   \n",
       "118810                                           Нет    NaN   \n",
       "115351                                           Нет    NaN   \n",
       "13168                                            Нет    NaN   \n",
       "\n",
       "       Повышение температуры Потеря чувства обоняния Слабость Сухой кашель  \n",
       "93302                    NaN                     NaN      NaN          NaN  \n",
       "2118                     NaN                     NaN      NaN          NaN  \n",
       "118810                   NaN                     NaN      NaN          NaN  \n",
       "115351                   NaN                     NaN      NaN          NaN  \n",
       "13168                    NaN                     NaN      NaN          NaN  "
      ]
     },
     "execution_count": 91,
     "metadata": {},
     "output_type": "execute_result"
    }
   ],
   "source": [
    "questioning = pd.read_csv(\n",
    "    INPUT_FP + \"data_for_science_questions_2020-07-27.csv\",\n",
    "    sep=\";\",\n",
    ")\n",
    "questioning.sample(5)"
   ]
  },
  {
   "cell_type": "code",
   "execution_count": 96,
   "id": "f33d0f8b",
   "metadata": {},
   "outputs": [
    {
     "data": {
      "text/plain": [
       "142033"
      ]
     },
     "execution_count": 96,
     "metadata": {},
     "output_type": "execute_result"
    }
   ],
   "source": [
    "questioning.shape[0]"
   ]
  },
  {
   "cell_type": "code",
   "execution_count": 97,
   "id": "038b2439",
   "metadata": {},
   "outputs": [
    {
     "data": {
      "text/html": [
       "<div>\n",
       "<style scoped>\n",
       "    .dataframe tbody tr th:only-of-type {\n",
       "        vertical-align: middle;\n",
       "    }\n",
       "\n",
       "    .dataframe tbody tr th {\n",
       "        vertical-align: top;\n",
       "    }\n",
       "\n",
       "    .dataframe thead th {\n",
       "        text-align: right;\n",
       "    }\n",
       "</style>\n",
       "<table border=\"1\" class=\"dataframe\">\n",
       "  <thead>\n",
       "    <tr style=\"text-align: right;\">\n",
       "      <th></th>\n",
       "      <th>idx</th>\n",
       "      <th>pd_id</th>\n",
       "      <th>Был ли контакт с пациентом больным Covid 19</th>\n",
       "      <th>Был ли подтверждённый случай заболевания Covid 19</th>\n",
       "      <th>Были ли симптомы ОРВИ на протяжении последних 5 месяцев</th>\n",
       "      <th>Были ли симптомы ковид в последние 5 месяцев?</th>\n",
       "      <th>Одышка</th>\n",
       "      <th>Повышение температуры</th>\n",
       "      <th>Потеря чувства обоняния</th>\n",
       "      <th>Слабость</th>\n",
       "      <th>Сухой кашель</th>\n",
       "    </tr>\n",
       "  </thead>\n",
       "  <tbody>\n",
       "    <tr>\n",
       "      <th>0</th>\n",
       "      <td>0</td>\n",
       "      <td>0</td>\n",
       "      <td>2</td>\n",
       "      <td>2</td>\n",
       "      <td>2</td>\n",
       "      <td>2</td>\n",
       "      <td>126700</td>\n",
       "      <td>126700</td>\n",
       "      <td>126700</td>\n",
       "      <td>126700</td>\n",
       "      <td>126700</td>\n",
       "    </tr>\n",
       "  </tbody>\n",
       "</table>\n",
       "</div>"
      ],
      "text/plain": [
       "   idx  pd_id  Был ли контакт с пациентом больным Covid 19  \\\n",
       "0    0      0                                            2   \n",
       "\n",
       "   Был ли подтверждённый случай заболевания Covid 19  \\\n",
       "0                                                  2   \n",
       "\n",
       "   Были ли симптомы ОРВИ на протяжении последних 5 месяцев  \\\n",
       "0                                                  2         \n",
       "\n",
       "   Были ли симптомы ковид в последние 5 месяцев?  Одышка  \\\n",
       "0                                              2  126700   \n",
       "\n",
       "   Повышение температуры  Потеря чувства обоняния  Слабость  Сухой кашель  \n",
       "0                 126700                   126700    126700        126700  "
      ]
     },
     "execution_count": 97,
     "metadata": {},
     "output_type": "execute_result"
    }
   ],
   "source": [
    "pd.DataFrame(questioning.isna().sum(axis=0)).T"
   ]
  },
  {
   "cell_type": "markdown",
   "id": "a1cf2a1e",
   "metadata": {},
   "source": [
    "### The diagnois"
   ]
  },
  {
   "cell_type": "code",
   "execution_count": 100,
   "id": "5041652e",
   "metadata": {},
   "outputs": [
    {
     "data": {
      "text/html": [
       "<div>\n",
       "<style scoped>\n",
       "    .dataframe tbody tr th:only-of-type {\n",
       "        vertical-align: middle;\n",
       "    }\n",
       "\n",
       "    .dataframe tbody tr th {\n",
       "        vertical-align: top;\n",
       "    }\n",
       "\n",
       "    .dataframe thead th {\n",
       "        text-align: right;\n",
       "    }\n",
       "</style>\n",
       "<table border=\"1\" class=\"dataframe\">\n",
       "  <thead>\n",
       "    <tr style=\"text-align: right;\">\n",
       "      <th></th>\n",
       "      <th>idx</th>\n",
       "      <th>DATE</th>\n",
       "      <th>DIAGNOSIS</th>\n",
       "    </tr>\n",
       "  </thead>\n",
       "  <tbody>\n",
       "    <tr>\n",
       "      <th>154143</th>\n",
       "      <td>487067</td>\n",
       "      <td>2019-09-23</td>\n",
       "      <td>J31.2</td>\n",
       "    </tr>\n",
       "    <tr>\n",
       "      <th>557027</th>\n",
       "      <td>744226</td>\n",
       "      <td>2020-03-20</td>\n",
       "      <td>E11.9</td>\n",
       "    </tr>\n",
       "    <tr>\n",
       "      <th>860623</th>\n",
       "      <td>26818</td>\n",
       "      <td>2020-05-15</td>\n",
       "      <td>J12.9</td>\n",
       "    </tr>\n",
       "    <tr>\n",
       "      <th>67273</th>\n",
       "      <td>474723</td>\n",
       "      <td>2019-07-03</td>\n",
       "      <td>J34.2</td>\n",
       "    </tr>\n",
       "    <tr>\n",
       "      <th>1040600</th>\n",
       "      <td>806568</td>\n",
       "      <td>2020-06-04</td>\n",
       "      <td>I25.1</td>\n",
       "    </tr>\n",
       "  </tbody>\n",
       "</table>\n",
       "</div>"
      ],
      "text/plain": [
       "            idx        DATE DIAGNOSIS\n",
       "154143   487067  2019-09-23     J31.2\n",
       "557027   744226  2020-03-20     E11.9\n",
       "860623    26818  2020-05-15     J12.9\n",
       "67273    474723  2019-07-03     J34.2\n",
       "1040600  806568  2020-06-04     I25.1"
      ]
     },
     "execution_count": 100,
     "metadata": {},
     "output_type": "execute_result"
    }
   ],
   "source": [
    "diagnosis = pd.read_csv(\n",
    "    INPUT_FP + \"data_for_science_diagnoses_2020-07-27.csv\",\n",
    "    sep=\";\"\n",
    ")\n",
    "diagnosis.sample(5)"
   ]
  },
  {
   "cell_type": "code",
   "execution_count": 104,
   "id": "3478ced7",
   "metadata": {},
   "outputs": [
    {
     "name": "stdout",
     "output_type": "stream",
     "text": [
      "<class 'pandas.core.frame.DataFrame'>\n",
      "RangeIndex: 1257754 entries, 0 to 1257753\n",
      "Data columns (total 3 columns):\n",
      " #   Column     Non-Null Count    Dtype \n",
      "---  ------     --------------    ----- \n",
      " 0   idx        1257754 non-null  int64 \n",
      " 1   DATE       1257754 non-null  object\n",
      " 2   DIAGNOSIS  1257754 non-null  object\n",
      "dtypes: int64(1), object(2)\n",
      "memory usage: 28.8+ MB\n"
     ]
    }
   ],
   "source": [
    "diagnosis.info()"
   ]
  },
  {
   "cell_type": "code",
   "execution_count": 110,
   "id": "033fd1ab",
   "metadata": {},
   "outputs": [
    {
     "data": {
      "text/html": [
       "<div>\n",
       "<style scoped>\n",
       "    .dataframe tbody tr th:only-of-type {\n",
       "        vertical-align: middle;\n",
       "    }\n",
       "\n",
       "    .dataframe tbody tr th {\n",
       "        vertical-align: top;\n",
       "    }\n",
       "\n",
       "    .dataframe thead th {\n",
       "        text-align: right;\n",
       "    }\n",
       "</style>\n",
       "<table border=\"1\" class=\"dataframe\">\n",
       "  <thead>\n",
       "    <tr style=\"text-align: right;\">\n",
       "      <th></th>\n",
       "      <th>idx</th>\n",
       "      <th>DATE</th>\n",
       "      <th>DIAGNOSIS</th>\n",
       "    </tr>\n",
       "  </thead>\n",
       "  <tbody>\n",
       "    <tr>\n",
       "      <th>0</th>\n",
       "      <td>0</td>\n",
       "      <td>0</td>\n",
       "      <td>0</td>\n",
       "    </tr>\n",
       "  </tbody>\n",
       "</table>\n",
       "</div>"
      ],
      "text/plain": [
       "   idx  DATE  DIAGNOSIS\n",
       "0    0     0          0"
      ]
     },
     "execution_count": 110,
     "metadata": {},
     "output_type": "execute_result"
    }
   ],
   "source": [
    "pd.DataFrame(diagnosis.isna().sum(axis=0)).T"
   ]
  },
  {
   "cell_type": "code",
   "execution_count": 109,
   "id": "f2c8a66e",
   "metadata": {},
   "outputs": [
    {
     "data": {
      "text/plain": [
       "333"
      ]
     },
     "execution_count": 109,
     "metadata": {},
     "output_type": "execute_result"
    }
   ],
   "source": [
    "diagnosis[\"DIAGNOSIS\"].nunique()"
   ]
  },
  {
   "cell_type": "markdown",
   "id": "e50da38b",
   "metadata": {},
   "source": [
    "As it is to see, there are plenty diagnoisis in our dataset. But according to the International Classification of Diseases (ICD), we can make this list much shorter by the disease group, paying attention to the "
   ]
  }
 ],
 "metadata": {
  "kernelspec": {
   "display_name": "Python 3 (ipykernel)",
   "language": "python",
   "name": "python3"
  },
  "language_info": {
   "codemirror_mode": {
    "name": "ipython",
    "version": 3
   },
   "file_extension": ".py",
   "mimetype": "text/x-python",
   "name": "python",
   "nbconvert_exporter": "python",
   "pygments_lexer": "ipython3",
   "version": "3.7.3"
  }
 },
 "nbformat": 4,
 "nbformat_minor": 5
}
